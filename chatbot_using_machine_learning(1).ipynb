{
  "nbformat": 4,
  "nbformat_minor": 0,
  "metadata": {
    "colab": {
      "provenance": []
    },
    "kernelspec": {
      "name": "python3",
      "display_name": "Python 3"
    },
    "language_info": {
      "name": "python"
    }
  },
  "cells": [
    {
      "cell_type": "code",
      "execution_count": null,
      "metadata": {
        "colab": {
          "base_uri": "https://localhost:8080/"
        },
        "id": "tcpClvXFZOFm",
        "outputId": "ee0b94a8-5ce2-49b0-e06d-7f81642703f1"
      },
      "outputs": [
        {
          "output_type": "stream",
          "name": "stdout",
          "text": [
            "Welcome! How can I assist you today?\n",
            "hello\n",
            "Hello! How can I assist you today?\n",
            "help\n",
            "Sure, how can I help you today?\n",
            "how is the weather today\n",
            "the weather is pleasant today\n",
            "how are you\n",
            "thank you for asking i am great!!\n",
            "tell me a joke\n",
            "what do you call a train carrying bubblegum  a cheww-cheww train\n",
            "what can you do ?\n",
            "i can answer to all your questions\n",
            "your fabulous\n",
            "thank you so much for the compliment!!\n",
            "tell me the time\n",
            "sorry i didnt understood your question\n",
            "what do you know\n",
            "i can answer to all your questions\n",
            "which language do you answer in\n",
            "Hello! How can I assist you today?\n",
            "what language do you know\n",
            "english language\n",
            "bye\n",
            "Goodbye, have a nice day!\n",
            "thsnks\n",
            "I'm sorry, I don't understand.\n",
            "thanks\n",
            "You're welcome!\n"
          ]
        }
      ],
      "source": [
        "import random\n",
        "\n",
        "\n",
        "def generate_response(user_input):\n",
        "    user_input = user_input.lower()\n",
        "\n",
        "\n",
        "    if 'hello' in user_input or 'hi' in user_input:\n",
        "        return \"Hello! How can I assist you today?\"\n",
        "    elif 'help' in user_input or 'support' in user_input:\n",
        "        return \"Sure, how can I help you today?\"\n",
        "    elif 'how is weather' in user_input or 'how is the weather today' in user_input:\n",
        "        return \"the weather is pleasant today\"\n",
        "    elif 'how are you' in user_input or 'how you doing' in user_input:\n",
        "        return \"thank you for asking i am great!!\"\n",
        "    elif 'tell me a joke' in user_input or 'tell a joke ' in user_input:\n",
        "        return \"what do you call a train carrying bubblegum  a cheww-cheww train\"\n",
        "    elif 'what can you do ?' in user_input or 'what do you know' in user_input:\n",
        "        return \"i can answer to all your questions\"\n",
        "    elif 'youre great' in user_input or 'your fabulous' in user_input:\n",
        "        return \"thank you so much for the compliment!!\"\n",
        "    elif 'tell me the time' in user_input or 'what is the time right now' in user_input:\n",
        "        return \"sorry i didnt understood your question\"\n",
        "    elif 'what language do you know' in user_input or 'which language do you answer in' in user_input:\n",
        "        return \"english language\"\n",
        "    elif 'bye' in user_input or 'goodbye' in user_input:\n",
        "        return \"Goodbye, have a nice day!\"\n",
        "    elif 'thanks' in user_input or 'thank you' in user_input:\n",
        "        return \"You're wbyelcome!\"\n",
        "    else:\n",
        "        return \"I'm sorry, I don't understand.\"\n",
        "\n",
        "\n",
        "\n",
        "def main():\n",
        "    print('Welcome! How can I assist you today?')\n",
        "    while True:\n",
        "        user_input = input()\n",
        "        if user_input.lower() == 'quit':\n",
        "            break\n",
        "        else:\n",
        "            print(generate_response(user_input))\n",
        "\n",
        "if __name__ == '__main__':\n",
        "    main()\n"
      ]
    }
  ]
}